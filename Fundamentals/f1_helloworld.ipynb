{
 "cells": [
  {
   "cell_type": "markdown",
   "metadata": {},
   "source": [
    "# Fundamentals - Hello World!"
   ]
  },
  {
   "cell_type": "markdown",
   "metadata": {},
   "source": [
    "## Environment Setup\n",
    "\n",
    "Python merupakan sebuah bahasa pemrograman yang tersedia untuk banyak platfoarm mulai dari Windows, linux, Mac OS, dll. Sebelum menggunakan bahasa pemrograman python kita perlu **menyiapkan environment-nya** terlebih dahulu. Terdapat dua cara untuk menyiapkan environment python yaitu dengan cara **menginstall langsung ke leptop/PC** (local machine) kita atau dengan menggunakan **Web Browser** (cara termudah)."
   ]
  },
  {
   "cell_type": "markdown",
   "metadata": {},
   "source": [
    "### Local Environment Setup\n",
    "\n",
    "Berikut merupakan cara sederhana untuk menginstall python untuk Windows.\n",
    "* Men-download python installer melalui [tautan berikut](https://www.python.org/downloads/) atau melalui python distributor seperti [Anaconda](https://www.anaconda.com/products/individual) \n",
    "\n",
    "* Setelah proses download selesai, kita bisa langsung menjalankan installer tersebut\n",
    "\n",
    "* Proses instalasi python cukup mudah, hanya perlu menyetujui default settings."
   ]
  },
  {
   "cell_type": "markdown",
   "metadata": {},
   "source": [
    "### Web Browser Environment Setup\n",
    "Untuk menjalankan python melalui web browser kita bisa menggunakan [Google Colaboratory](https://colab.research.google.com/) (Colab). Pada dasarnya Colab merupakan sebuah platform yang memungkinkan kita untuk menjalankan menulis, menjalankan, dan berbagi kodingan python melalui Google Drive tanpa perlu menginstal python pada leptop/PC kita. ([Introduction to Colab](https://www.youtube.com/watch?v=inN8seMm7UI&ab_channel=TensorFlow))"
   ]
  },
  {
   "cell_type": "markdown",
   "metadata": {},
   "source": [
    "## Hello World!\n",
    "Setelah kita selesai menyiapkan environment yang dibutuhkan, kita bisa langsung menjalankan sebuah printah sederhana untuk menguji apakah proses intalasinya berhasil atau tidak. Untuk pengujian ini biasanya kita menggunakan sebuah perintah sederhana untuk memberikan output berupa \"Hello Wordl!\"."
   ]
  },
  {
   "cell_type": "code",
   "execution_count": 1,
   "metadata": {},
   "outputs": [
    {
     "name": "stdout",
     "output_type": "stream",
     "text": [
      "Hello World!\n"
     ]
    }
   ],
   "source": [
    "print('Hello World!')"
   ]
  },
  {
   "cell_type": "code",
   "execution_count": 3,
   "metadata": {},
   "outputs": [
    {
     "name": "stdout",
     "output_type": "stream",
     "text": [
      "Hello World!\n"
     ]
    }
   ],
   "source": [
    "print(\"Hello World!\")"
   ]
  },
  {
   "cell_type": "code",
   "execution_count": null,
   "metadata": {},
   "outputs": [],
   "source": []
  }
 ],
 "metadata": {
  "interpreter": {
   "hash": "58f13140a23075e88b1c2dd03d97dc352faebd0a7e239cd6f3ff8f63b528d36c"
  },
  "kernelspec": {
   "display_name": "Python 3.8.10 64-bit",
   "name": "python3"
  },
  "language_info": {
   "codemirror_mode": {
    "name": "ipython",
    "version": 3
   },
   "file_extension": ".py",
   "mimetype": "text/x-python",
   "name": "python",
   "nbconvert_exporter": "python",
   "pygments_lexer": "ipython3",
   "version": "3.8.10"
  },
  "orig_nbformat": 4
 },
 "nbformat": 4,
 "nbformat_minor": 2
}
