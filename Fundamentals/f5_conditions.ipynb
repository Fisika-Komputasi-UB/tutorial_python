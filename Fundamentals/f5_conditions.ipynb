{
 "cells": [
  {
   "cell_type": "markdown",
   "metadata": {},
   "source": [
    "# Fundamentals - Conditions\n",
    "\n",
    "Seperti yang telah dijelaskan pada bagian basic operators, python memiliki beberapa operator (`==`, `!=`, `<`, dll) yang bisa digunakan untuk membuat conditional statement. \n",
    "\n",
    "Conditional statement tersebut biasanya digunakan untuk membuat *if statements* dan *loops*"
   ]
  },
  {
   "cell_type": "markdown",
   "metadata": {},
   "source": [
    "## If statement\n",
    "### Satu kondisi"
   ]
  },
  {
   "cell_type": "code",
   "execution_count": 1,
   "metadata": {},
   "outputs": [
    {
     "name": "stdout",
     "output_type": "stream",
     "text": [
      "num2 is greater than num1\n"
     ]
    }
   ],
   "source": [
    "num1 = 30\n",
    "num2  = 50\n",
    "\n",
    "if num2 > num1:\n",
    "    print(\"num2 lebih besar dari num1\")"
   ]
  },
  {
   "cell_type": "markdown",
   "metadata": {},
   "source": [
    "Seperti yang dijelaskan sebelumnya, bahwa python menggunakan indentation/whitespace untuk mendefinisikan sebuah jangkauan atau menandakan sebuah blok kode."
   ]
  },
  {
   "cell_type": "code",
   "execution_count": 2,
   "metadata": {},
   "outputs": [
    {
     "ename": "IndentationError",
     "evalue": "expected an indented block (<ipython-input-2-54c9af851a3f>, line 5)",
     "output_type": "error",
     "traceback": [
      "\u001b[1;36m  File \u001b[1;32m\"<ipython-input-2-54c9af851a3f>\"\u001b[1;36m, line \u001b[1;32m5\u001b[0m\n\u001b[1;33m    print(\"num2 is greater than num1\")\u001b[0m\n\u001b[1;37m    ^\u001b[0m\n\u001b[1;31mIndentationError\u001b[0m\u001b[1;31m:\u001b[0m expected an indented block\n"
     ]
    }
   ],
   "source": [
    "num1 = 30\n",
    "num2 = 50\n",
    "\n",
    "if num2 > num1:\n",
    "print(\"num2 lebih besar dari num1\")\n"
   ]
  },
  {
   "cell_type": "markdown",
   "metadata": {},
   "source": [
    "### Dua kondisi"
   ]
  },
  {
   "cell_type": "code",
   "execution_count": 3,
   "metadata": {},
   "outputs": [
    {
     "name": "stdout",
     "output_type": "stream",
     "text": [
      "num2 is greater than num1\n"
     ]
    }
   ],
   "source": [
    "num1 = 30\n",
    "num2 = 50\n",
    "\n",
    "if num2 > num1:\n",
    "    print(\"num2 lebih besar dari num1\")\n",
    "else:\n",
    "    print(\"num2 lebih kecil dari num1\")\n"
   ]
  },
  {
   "cell_type": "markdown",
   "metadata": {},
   "source": [
    "### Banyak kodisi"
   ]
  },
  {
   "cell_type": "code",
   "execution_count": 7,
   "metadata": {},
   "outputs": [
    {
     "name": "stdout",
     "output_type": "stream",
     "text": [
      "they are equal\n"
     ]
    }
   ],
   "source": [
    "num1 = 50\n",
    "num2 = 50\n",
    "\n",
    "if num2 > num1:\n",
    "    print(\"num2 lebih besar dari num1\")\n",
    "elif num2 < num1:\n",
    "    print(\"num2 lebih kecil dari num1\")\n",
    "else:\n",
    "    print(\"num2 = num1\")\n"
   ]
  },
  {
   "cell_type": "markdown",
   "metadata": {},
   "source": [
    "## Peenggunaan operator `and` & `or`\n",
    "Kedua operator ini dapat digunakan untuk menggabungkan beberapa kondisi menjadi sebuah kondisi tunggal"
   ]
  },
  {
   "cell_type": "code",
   "execution_count": 8,
   "metadata": {},
   "outputs": [
    {
     "name": "stdout",
     "output_type": "stream",
     "text": [
      "num1 lebih besar dari num 2 dan merupakan bilangan bulat\n"
     ]
    }
   ],
   "source": [
    "num1 = 50\n",
    "num2 = 30\n",
    "\n",
    "if num1 > num2 and num1 % 2 == 0 :\n",
    "    print(\"num1 lebih besar dari num 2 dan merupakan bilangan genap\")"
   ]
  },
  {
   "cell_type": "code",
   "execution_count": 9,
   "metadata": {},
   "outputs": [
    {
     "name": "stdout",
     "output_type": "stream",
     "text": [
      "num1 lebih besar dari num 2 dan merupakan bilangan bulat\n"
     ]
    }
   ],
   "source": [
    "if (num1 > num2) and (num1 % 2 == 0):\n",
    "    print(\"num1 lebih besar dari num 2 dan merupakan bilangan genap\")\n"
   ]
  },
  {
   "cell_type": "code",
   "execution_count": 26,
   "metadata": {},
   "outputs": [
    {
     "name": "stdout",
     "output_type": "stream",
     "text": [
      "num1=  50\n"
     ]
    }
   ],
   "source": [
    "if (num1 > num2) or (num1 % 2 != 0):\n",
    "    print(\"num1= \", num1)\n"
   ]
  },
  {
   "cell_type": "markdown",
   "metadata": {},
   "source": [
    "## Nested if\n",
    "\n",
    "Kita bisa membuat sebuah `if`  dalam `if`, teknik ini disebut Nested if."
   ]
  },
  {
   "cell_type": "code",
   "execution_count": 28,
   "metadata": {},
   "outputs": [
    {
     "name": "stdout",
     "output_type": "stream",
     "text": [
      "num1 lebih besar dari 10\n",
      "dan merupakan bilangan ganjil\n"
     ]
    }
   ],
   "source": [
    "num1 = 51\n",
    "\n",
    "if num1 > 10:\n",
    "    print(\"num1 lebih besar dari 10\")\n",
    "    if num1 % 2 == 0:\n",
    "        print(\"dan merupakan bilangan genap\")\n",
    "    else:\n",
    "        print(\"dan merupakan bilangan ganjil\")"
   ]
  },
  {
   "cell_type": "markdown",
   "metadata": {},
   "source": [
    "## `pass` statement\n",
    "`pass` digunakan jika kita memiliki sebuah `if` statement namun tidak memiliki sebuah aksi yang ingin dikerjakan."
   ]
  },
  {
   "cell_type": "code",
   "execution_count": 29,
   "metadata": {},
   "outputs": [
    {
     "name": "stdout",
     "output_type": "stream",
     "text": [
      "num1 lebih besar dari 10\n"
     ]
    }
   ],
   "source": [
    "num1 = 51\n",
    "\n",
    "if num1 > 10:\n",
    "    print(\"num1 lebih besar dari 10\")\n",
    "    if num1 % 2 == 0:\n",
    "        print(\"dan merupakan bilangan genap\")\n",
    "    else:\n",
    "        pass\n"
   ]
  },
  {
   "cell_type": "code",
   "execution_count": null,
   "metadata": {},
   "outputs": [],
   "source": []
  }
 ],
 "metadata": {
  "interpreter": {
   "hash": "dc645246a9652baa8b6bb2e014f5782302e9944f4a2aea2dfd23a01851a84e0f"
  },
  "kernelspec": {
   "display_name": "Python 3.8.5 64-bit ('base': conda)",
   "language": "python",
   "name": "python3"
  },
  "language_info": {
   "codemirror_mode": {
    "name": "ipython",
    "version": 3
   },
   "file_extension": ".py",
   "mimetype": "text/x-python",
   "name": "python",
   "nbconvert_exporter": "python",
   "pygments_lexer": "ipython3",
   "version": "3.8.5"
  },
  "orig_nbformat": 4
 },
 "nbformat": 4,
 "nbformat_minor": 2
}
