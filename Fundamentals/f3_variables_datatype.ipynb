{
 "cells": [
  {
   "cell_type": "markdown",
   "metadata": {},
   "source": [
    "# Variables and Data Types\n",
    "---\n",
    "\n",
    "Pada bagian ini kita akan belajar cara membuat sebuah variabel beserta aturan-aturan penamaan variabel. Selain itu kita juga akan belajar tentang tipe-tipe data yang ada pada python."
   ]
  },
  {
   "cell_type": "markdown",
   "metadata": {},
   "source": [
    "## Variables\n",
    "---\n",
    "\n",
    "Variabel merupakan wadah untuk menyimpan sebuah nilai.\n",
    "\n",
    "Python tidak mengenal sebuah perintah untuk mendeklarasikan variabel. Variabel dibuat ketika kita menetapkan suatu nilai untuk variabel tersebut."
   ]
  },
  {
   "cell_type": "code",
   "execution_count": 2,
   "metadata": {},
   "outputs": [],
   "source": [
    "a = 1"
   ]
  },
  {
   "cell_type": "markdown",
   "metadata": {},
   "source": [
    "Variabel memiliki nama yang singkat (x, y, a) atau nama yang lebih deskriptif (mobil, age, total_volume).\n",
    "\n",
    "Penmamaan variabel pada python harus mengikuti aturan berikut:\n",
    "- Nama sebuah variabel harus diawali dengan huruf atau karakter underscore (\"_\")\n",
    "- Nama sebuah variabel tidak boleh diawali dengan angka\n",
    "- Nama sebuah variabel hanya boleh mengandung huruf, angka, atau karakter underscore (A-z, 0-9, dan _)\n",
    "- Nama variabel pada python itu \"case-sensitive\" (age, Age, dan AGE merupakan tiga variabel yang berbeda)"
   ]
  },
  {
   "cell_type": "code",
   "execution_count": 4,
   "metadata": {},
   "outputs": [
    {
     "name": "stdout",
     "output_type": "stream",
     "text": [
      "Rahmat\n"
     ]
    }
   ],
   "source": [
    "first_name = \"Rahmat\"\n",
    "\n",
    "print(first_name)"
   ]
  },
  {
   "cell_type": "code",
   "execution_count": 5,
   "metadata": {},
   "outputs": [
    {
     "name": "stdout",
     "output_type": "stream",
     "text": [
      "5\n"
     ]
    }
   ],
   "source": [
    "Jari2 = 5\n",
    "\n",
    "print(Jari2)"
   ]
  },
  {
   "cell_type": "markdown",
   "metadata": {},
   "source": [
    "## Data Types\n",
    "---\n",
    "\n",
    "Pada bidang pemrograman, tipe data merupakan konsep yang sangat penting. \n",
    "\n",
    "Berikut merupakan beberapa tipe data bawaan yang ada di python dan umum digunakan:\n",
    "- data tipe teks: `str`"
   ]
  },
  {
   "cell_type": "code",
   "execution_count": 20,
   "metadata": {},
   "outputs": [
    {
     "data": {
      "text/plain": [
       "str"
      ]
     },
     "execution_count": 20,
     "metadata": {},
     "output_type": "execute_result"
    }
   ],
   "source": [
    "# Contoh tipe data str\n",
    "teks = \"Hello World\"\n",
    "type(teks)"
   ]
  },
  {
   "cell_type": "markdown",
   "metadata": {},
   "source": [
    "- data tipe numerik: `int`, `float`, `complex`"
   ]
  },
  {
   "cell_type": "code",
   "execution_count": 21,
   "metadata": {},
   "outputs": [
    {
     "data": {
      "text/plain": [
       "int"
      ]
     },
     "execution_count": 21,
     "metadata": {},
     "output_type": "execute_result"
    }
   ],
   "source": [
    "# Contoh tipe int\n",
    "numerik_int = 20\n",
    "type(numerik_int)"
   ]
  },
  {
   "cell_type": "code",
   "execution_count": 23,
   "metadata": {},
   "outputs": [
    {
     "data": {
      "text/plain": [
       "float"
      ]
     },
     "execution_count": 23,
     "metadata": {},
     "output_type": "execute_result"
    }
   ],
   "source": [
    "# Contoh tipe float\n",
    "numerik_float = 20.5\n",
    "type(numerik_float)\n"
   ]
  },
  {
   "cell_type": "code",
   "execution_count": 24,
   "metadata": {},
   "outputs": [
    {
     "data": {
      "text/plain": [
       "complex"
      ]
     },
     "execution_count": 24,
     "metadata": {},
     "output_type": "execute_result"
    }
   ],
   "source": [
    "# Contoh tipe complex\n",
    "numerik_complex = 1j\n",
    "type(numerik_complex)\n"
   ]
  },
  {
   "cell_type": "markdown",
   "metadata": {},
   "source": [
    "- data tipe rangkaian (Sequence): `list`, `tupel`, `range`"
   ]
  },
  {
   "cell_type": "code",
   "execution_count": 25,
   "metadata": {},
   "outputs": [
    {
     "data": {
      "text/plain": [
       "list"
      ]
     },
     "execution_count": 25,
     "metadata": {},
     "output_type": "execute_result"
    }
   ],
   "source": [
    "# Contoh tipe list\n",
    "sequence_list = [\"apple\", \"banana\", \"cherry\"]\n",
    "type(sequence_list)"
   ]
  },
  {
   "cell_type": "code",
   "execution_count": 26,
   "metadata": {},
   "outputs": [
    {
     "data": {
      "text/plain": [
       "tuple"
      ]
     },
     "execution_count": 26,
     "metadata": {},
     "output_type": "execute_result"
    }
   ],
   "source": [
    "# Contoh tipe tuple\n",
    "sequence_tuple = (\"apple\", \"banana\", \"cherry\")\n",
    "type(sequence_tuple)\n"
   ]
  },
  {
   "cell_type": "code",
   "execution_count": 27,
   "metadata": {},
   "outputs": [
    {
     "data": {
      "text/plain": [
       "range"
      ]
     },
     "execution_count": 27,
     "metadata": {},
     "output_type": "execute_result"
    }
   ],
   "source": [
    "# Contoh tipe range\n",
    "sequence_range = range(6)\n",
    "type(sequence_range)\n"
   ]
  },
  {
   "cell_type": "markdown",
   "metadata": {},
   "source": [
    "- data tipe mapping: `dict`"
   ]
  },
  {
   "cell_type": "code",
   "execution_count": 29,
   "metadata": {},
   "outputs": [
    {
     "data": {
      "text/plain": [
       "dict"
      ]
     },
     "execution_count": 29,
     "metadata": {},
     "output_type": "execute_result"
    }
   ],
   "source": [
    "# Contoh tipe dict\n",
    "mapping_dict = {\"name\": \"John\", \"age\": 36}\n",
    "type(mapping_dict)"
   ]
  },
  {
   "cell_type": "markdown",
   "metadata": {},
   "source": [
    "- data tipe set: `set`"
   ]
  },
  {
   "cell_type": "code",
   "execution_count": 30,
   "metadata": {},
   "outputs": [
    {
     "data": {
      "text/plain": [
       "set"
      ]
     },
     "execution_count": 30,
     "metadata": {},
     "output_type": "execute_result"
    }
   ],
   "source": [
    "# Contoh tipe set\n",
    "type_set = {\"apple\", \"banana\", \"cherry\"}\n",
    "type(type_set)\n"
   ]
  },
  {
   "cell_type": "markdown",
   "metadata": {},
   "source": [
    "- data tipe boolean: `bool`"
   ]
  },
  {
   "cell_type": "code",
   "execution_count": 31,
   "metadata": {},
   "outputs": [
    {
     "data": {
      "text/plain": [
       "bool"
      ]
     },
     "execution_count": 31,
     "metadata": {},
     "output_type": "execute_result"
    }
   ],
   "source": [
    "# Contoh tipe bool\n",
    "type_bool = False \n",
    "type(type_bool)"
   ]
  },
  {
   "cell_type": "code",
   "execution_count": 32,
   "metadata": {},
   "outputs": [
    {
     "data": {
      "text/plain": [
       "bool"
      ]
     },
     "execution_count": 32,
     "metadata": {},
     "output_type": "execute_result"
    }
   ],
   "source": [
    "# Contoh tipe bool\n",
    "type_bool = True\n",
    "type(type_bool)\n"
   ]
  },
  {
   "cell_type": "markdown",
   "metadata": {},
   "source": [
    "- data tipe biner: `bytes`"
   ]
  },
  {
   "cell_type": "code",
   "execution_count": 34,
   "metadata": {},
   "outputs": [
    {
     "data": {
      "text/plain": [
       "bytes"
      ]
     },
     "execution_count": 34,
     "metadata": {},
     "output_type": "execute_result"
    }
   ],
   "source": [
    "# Contoh tipe bytes\n",
    "type_bytes = b\"Hello\"\n",
    "type(type_bytes)\n"
   ]
  },
  {
   "cell_type": "code",
   "execution_count": null,
   "metadata": {},
   "outputs": [],
   "source": []
  }
 ],
 "metadata": {
  "interpreter": {
   "hash": "dc645246a9652baa8b6bb2e014f5782302e9944f4a2aea2dfd23a01851a84e0f"
  },
  "kernelspec": {
   "display_name": "Python 3.8.5 64-bit ('base': conda)",
   "language": "python",
   "name": "python3"
  },
  "language_info": {
   "codemirror_mode": {
    "name": "ipython",
    "version": 3
   },
   "file_extension": ".py",
   "mimetype": "text/x-python",
   "name": "python",
   "nbconvert_exporter": "python",
   "pygments_lexer": "ipython3",
   "version": "3.8.5"
  },
  "orig_nbformat": 4
 },
 "nbformat": 4,
 "nbformat_minor": 2
}
